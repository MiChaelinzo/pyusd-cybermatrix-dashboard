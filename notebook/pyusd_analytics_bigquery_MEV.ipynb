from google.cloud import bigquery
from datetime import datetime

client = bigquery.Client()
dataset_id = "your_dataset_id"
dataset = bigquery.Dataset(dataset_id)
client.create_dataset(dataset, exists_ok=True)

table_id = f"{dataset_id}.transfer_events"
schema = [
    bigquery.SchemaField("block_number", "INTEGER"),
    bigquery.SchemaField("transaction_hash", "STRING"),
    bigquery.SchemaField("from_address", "STRING"),
    bigquery.SchemaField("to_address", "STRING"),
    bigquery.SchemaField("value", "FLOAT"),
    bigquery.SchemaField("timestamp", "TIMESTAMP", mode="NULLABLE")
]
table = bigquery.Table(table_id, schema=schema)
client.create_table(table, exists_ok=True)

start_block = 17000000  # Approximate PYUSD deployment block, adjust as needed
end_block = w3.eth.block_number
batch_size = 100
block_timestamps = {}

for current_block in range(start_block, end_block, batch_size):
    to_block = min(current_block + batch_size - 1, end_block)
    try:
        events = pyusd_contract.events.Transfer.get_logs(
            from_block=current_block,
            to_block=to_block
        )
        if events:
            rows_to_insert = []
            for event in events:
                block_number = event["blockNumber"]
                if block_number not in block_timestamps:
                    block = w3.eth.get_block(block_number)
                    block_timestamps[block_number] = block['timestamp']
                timestamp = block_timestamps[block_number]
                timestamp_str = datetime.utcfromtimestamp(timestamp).strftime('%Y-%m-%d %H:%M:%S')
                rows_to_insert.append({
                    "block_number": event["blockNumber"],
                    "transaction_hash": event["transactionHash"].hex(),
                    "from_address": event["args"]["from"],
                    "to_address": event["args"]["to"],
                    "value": float(event["args"]["value"] / 10**6),
                    "timestamp": timestamp_str
                })
            errors = client.insert_rows_json(table_id, rows_to_insert)
            if errors:
                print(f"Errors inserting rows: {errors}")
            else:
                print(f"Inserted {len(rows_to_insert)} rows into {table_id}")
    except Exception as e:
        print(f"Error fetching events for blocks {current_block} to {to_block}: {e}")
