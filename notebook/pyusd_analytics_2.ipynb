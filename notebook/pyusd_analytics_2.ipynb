# -*- coding: utf-8 -*-
"""Enhanced PYUSD Analytics with GCP RPC"""

# Import necessary libraries
import web3
from web3 import Web3
import json  # For pretty printing JSON output (like trace data)

# **IMPORTANT: REPLACE WITH YOUR GCP RPC ENDPOINT**
GCP_RPC_ENDPOINT = "YOUR_GCP_RPC_ENDPOINT"  # e.g., "https://<your-endpoint>.web3.gcp.googleusercontent.com"

# Connect to GCP Blockchain RPC
w3 = Web3(Web3.HTTPProvider(GCP_RPC_ENDPOINT))

# Check if connected
if w3.is_connected():
    print("Successfully connected to GCP Blockchain RPC!")
else:
    print("Connection failed. Please check your GCP RPC endpoint and network connection.")
    exit()

# PYUSD Contract Address (Ethereum Mainnet)
PYUSD_CONTRACT_ADDRESS = "0x6c3ea9036406852006290770bedfcaba0e23a0e8"  # From Etherscan

# PYUSD Contract ABI (Minimal ABI for Transfer event)
PYUSD_ABI_MINIMAL_TRANSFER = [
    {
        "anonymous": False,
        "inputs": [
            {"indexed": True, "internalType": "address", "name": "from", "type": "address"},
            {"indexed": True, "internalType": "address", "name": "to", "type": "address"},
            {"indexed": False, "internalType": "uint256", "name": "value", "type": "uint256"},
        ],
        "name": "Transfer",
        "type": "event",
    }
]

# Get PYUSD Contract object
pyusd_contract = w3.eth.contract(address=PYUSD_CONTRACT_ADDRESS, abi=PYUSD_ABI_MINIMAL_TRANSFER)

# --- Function to Calculate Total Transfer Volume ---
def calculate_transfer_volume(transfer_events):
    """Calculates the total PYUSD transfer volume from a list of Transfer events."""
    total_volume_wei = 0
    for event in transfer_events:
        total_volume_wei += event['args']['value']
    return total_volume_wei

# --- Example: Get Recent Transfer Events and Calculate Volume ---
print("\n--- Recent PYUSD Transfer Events and Volume ---")

# Get the latest block number
latest_block = w3.eth.block_number
print(f"Latest Block Number: {latest_block}")

# Define a range to fetch events from (e.g., last 20 blocks - increased range for more data)
event_filter = pyusd_contract.events.Transfer.create_filter(
    fromBlock=max(0, latest_block - 20),  # Fetch from last 20 blocks
    toBlock='latest'
)

try:
    transfer_events = event_filter.get_all_entries()

    if transfer_events:
        print(f"Found {len(transfer_events)} PYUSD Transfer events in recent blocks.")
        total_volume_wei = calculate_transfer_volume(transfer_events)
        # Assuming PYUSD has 6 decimals (check PYUSD documentation for exact decimals)
        decimals = 6
        total_volume_pyusd = total_volume_wei / (10**decimals)
        print(f"Total PYUSD Transfer Volume (last 20 blocks): {total_volume_pyusd:.2f} PYUSD (approx.)") # Format to 2 decimal places

        for event in transfer_events[:5]: # Display only first 5 events for brevity
            print("\n--- Transfer Event ---")
            print(f"Block Number: {event['blockNumber']}")
            print(f"Transaction Hash: {event['transactionHash'].hex()}")
            print(f"From: {event['args']['from']}")
            print(f"To: {event['args']['to']}")
            value_pyusd = event['args']['value'] / (10**decimals) # Convert to PYUSD units
            print(f"Value: {value_pyusd:.2f} PYUSD")

    else:
        print("No PYUSD Transfer events found in recent blocks.")

except Exception as e:
    print(f"Error fetching Transfer events: {e}")

# --- Example: Using trace_block (Computationally Expensive) ---
print("\n--- Example: Using trace_block (Computationally Expensive Method) ---")

# Let's trace the latest block (you can also specify a block number)
block_to_trace = latest_block

try:
    block_trace_raw = w3.provider.make_request("trace_block", [block_to_trace])
    # The response is a JSON-like structure.  Let's pretty print a part of it for inspection
    # Be cautious, trace_block output can be VERY large!
    print(f"\n--- Trace for Block {block_to_trace} (Partial - First 500 chars of result) ---")
    block_trace_json_str = json.dumps(block_trace_raw['result'], indent=2) # Convert to formatted JSON string
    print(block_trace_json_str[:500] + "...") # Print first 500 characters for brevity

    # **Explore the `block_trace_raw['result']` structure:**
    # It contains a lot of information about transactions within the block,
    # opcodes executed, gas used, etc. You can parse this data to analyze
    # transaction flow, identify potential issues, or gain deeper insights into
    # smart contract execution related to PYUSD in this block.

except Exception as e:
    print(f"Error during trace_block: {e}")
    print("Make sure your GCP RPC endpoint supports trace methods and you are using it correctly.")


# --- Example: Conceptual BigQuery Integration (Illustrative - No actual BigQuery code here) ---
print("\n--- Conceptual BigQuery Integration ---")
print("Imagine you want to store historical PYUSD transaction data in Google BigQuery for analysis.")
print("You could:")
print("1.  Use the `google-cloud-bigquery` Python library.")
print("2.  Create a BigQuery dataset and table to store PYUSD Transfer events (or other relevant data).")
print("3.  Periodically fetch Transfer events using GCP RPC (perhaps in batches or using a streaming approach).")
print("4.  Transform the event data into a format suitable for BigQuery.")
print("5.  Use BigQuery's `insert_rows` method to load the data into your BigQuery table.")
print("6.  Then, you can use BigQuery SQL to query and analyze historical PYUSD transaction trends, volume, etc.")
print("\n**Further Exploration Ideas (Hackathon Challenges):**")
print("* **MEV Analysis:** Use `debug_traceTransaction` on PYUSD transactions to look for MEV opportunities.")
print("* **Congestion Dashboard:** Analyze block and transaction data (maybe using `trace_block` and transaction receipts) to identify network congestion related to PYUSD activity.")
print("* **Advanced Analytics:** Explore other GCP Blockchain RPC methods and BigQuery datasets to build more sophisticated PYUSD analytics tools.")

print("\n--- End of Enhanced Example ---")
print("This is a more complex example. Experiment, explore the output of `trace_block`, and think about how to expand it further for your hackathon project!")
