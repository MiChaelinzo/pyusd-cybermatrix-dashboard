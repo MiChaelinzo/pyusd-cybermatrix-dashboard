# -*- coding: utf-8 -*-
"""Enhanced PYUSD Analytics with GCP RPC - CONNECTION & ADDRESS FIX"""

# Import necessary libraries
import web3
from web3 import Web3
import json

# **IMPORTANT: REPLACE WITH YOUR *CORRECT* GCP RPC ENDPOINT!**
# **VERIFY YOU COPIED IT ACCURATELY FROM GCP CONSOLE!**
GCP_RPC_ENDPOINT = "" # <-- THIS IS THE ETHEREUM MAINNET ENDPOINT

# Connect to GCP Blockchain RPC
w3 = Web3(Web3.HTTPProvider(GCP_RPC_ENDPOINT))

# Check if connected
if w3.is_connected():
    print("Successfully connected to GCP Blockchain RPC!")
else:
    print("Connection failed. Please check your GCP RPC endpoint and network connection AGAIN.") # More specific message
    print("Double-check you enabled Blockchain RPC API in your GCP project.") # Added API reminder
    exit()

# PYUSD Contract Address (Ethereum Mainnet)
PYUSD_CONTRACT_ADDRESS = Web3.to_checksum_address("0x6c3ea9036406852006290770bedfcaba0e23a0e8")
print(f"PYUSD Contract Address (Checksum): {PYUSD_CONTRACT_ADDRESS}")

# PYUSD Contract ABI (Minimal ABI for Transfer event)
PYUSD_ABI_MINIMAL_TRANSFER = [
    {
        "anonymous": False,
        "inputs": [
            {"indexed": True, "internalType": "address", "name": "from", "type": "address"},
            {"indexed": True, "internalType": "address", "name": "to", "type": "address"},
            {"indexed": False, "internalType": "uint256", "name": "value", "type": "uint256"},
        ],
        "name": "Transfer",
        "type": "event",
    }
]

# Get PYUSD Contract object
pyusd_contract = w3.eth.contract(address=PYUSD_CONTRACT_ADDRESS, abi=PYUSD_ABI_MINIMAL_TRANSFER)

# --- Function to Calculate Total Transfer Volume ---
def calculate_transfer_volume(transfer_events):
    """Calculates the total PYUSD transfer volume from a list of Transfer events."""
    total_volume_wei = 0
    for event in transfer_events:
        total_volume_wei += event['args']['value']
    return total_volume_wei

# --- Example: Get Recent Transfer Events and Calculate Volume ---
print("\n--- Recent PYUSD Transfer Events and Volume ---")

# Get the latest block number
latest_block = w3.eth.block_number
print(f"Latest Block Number: {latest_block}")

# Define the block range (e.g., last 20 blocks)
num_blocks = 20
from_block = max(0, latest_block - num_blocks)  # Ensure no negative block numbers
to_block = latest_block

try:
    # Fetch Transfer events using correct camelCase parameters
    transfer_events = pyusd_contract.events.Transfer.get_logs(
        fromBlock=from_block,
        toBlock=to_block
    )
    
    if transfer_events:
        print(f"Found {len(transfer_events)} PYUSD Transfer events in the last {num_blocks} blocks.")
        for event in transfer_events[:5]:  # Show first 5 events for brevity
            print("\n--- Transfer Event ---")
            print(f"Block Number: {event['blockNumber']}")
            print(f"Transaction Hash: {event['transactionHash'].hex()}")
            print(f"From: {event['args']['from']}")
            print(f"To: {event['args']['to']}")
            value_pyusd = event['args']['value'] / (10**6)  # PYUSD has 6 decimals
            print(f"Value: {value_pyusd:.2f} PYUSD")
    else:
        print(f"No PYUSD Transfer events found in the last {num_blocks} blocks.")

except Exception as e:
    print(f"Error fetching Transfer events: {e}")

# --- Example: Conceptual BigQuery Integration (Illustrative - No actual BigQuery code here) ---
print("\n--- Conceptual BigQuery Integration ---")
print("Imagine you want to store historical PYUSD transaction data in Google BigQuery for analysis.")
print("You could:")
print("1.  Use the `google-cloud-bigquery` Python library.")
print("2.  Create a BigQuery dataset and table to store PYUSD Transfer events (or other relevant data).")
print("3.  Periodically fetch Transfer events using GCP RPC (perhaps in batches or using a streaming approach).")
print("4.  Transform the event data into a format suitable for BigQuery.")
print("5.  Use BigQuery's `insert_rows` method to load the data into your BigQuery table.")
print("6.  Then, you can use BigQuery SQL to query and analyze historical PYUSD transaction trends, volume, etc.")
print("\n**Further Exploration Ideas (Hackathon Challenges):**")
print("* **MEV Analysis:** Use `debug_traceTransaction` on PYUSD transactions to look for MEV opportunities.")
print("* **Congestion Dashboard:** Analyze block and transaction data (maybe using `trace_block` and transaction receipts) to identify network congestion related to PYUSD activity.")
print("* **Advanced Analytics:** Explore other GCP Blockchain RPC methods and BigQuery datasets to build more sophisticated PYUSD analytics tools.")

print("\n--- End of Enhanced Example ---")
print("This is a more complex example. Experiment, explore the output of `trace_block`, and think about how to expand it further for your hackathon project!")
