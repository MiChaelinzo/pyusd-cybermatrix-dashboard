
# -*- coding: utf-8 -*-
"""PYUSD Analytics with GCP RPC"""

# Import necessary libraries
import web3
from web3 import Web3

# **IMPORTANT: REPLACE WITH YOUR GCP RPC ENDPOINT**
GCP_RPC_ENDPOINT = "YOUR_GCP_RPC_ENDPOINT"  # e.g., "https://<your-endpoint>.web3.gcp.googleusercontent.com"

# Connect to GCP Blockchain RPC
w3 = Web3(Web3.HTTPProvider(GCP_RPC_ENDPOINT))

# Check if connected
if w3.is_connected():
    print("Successfully connected to GCP Blockchain RPC!")
else:
    print("Connection failed. Please check your GCP RPC endpoint and network connection.")
    exit()

# PYUSD Contract Address (Ethereum Mainnet)
PYUSD_CONTRACT_ADDRESS = "0x6c3ea9036406852006290770bedfcaba0e23a0e8"  # From Etherscan

# PYUSD Contract ABI (Minimal ABI for Transfer event - you can get full ABI from links provided)
PYUSD_ABI_MINIMAL_TRANSFER = [
    {
        "anonymous": False,
        "inputs": [
            {"indexed": True, "internalType": "address", "name": "from", "type": "address"},
            {"indexed": True, "internalType": "address", "name": "to", "type": "address"},
            {"indexed": False, "internalType": "uint256", "name": "value", "type": "uint256"},
        ],
        "name": "Transfer",
        "type": "event",
    }
]

# Get PYUSD Contract object
pyusd_contract = w3.eth.contract(address=PYUSD_CONTRACT_ADDRESS, abi=PYUSD_ABI_MINIMAL_TRANSFER)

# --- Example: Get Recent Transfer Events ---
print("\n--- Recent PYUSD Transfer Events ---")

# Get the latest block number
latest_block = w3.eth.block_number
print(f"Latest Block Number: {latest_block}")

# Define a range to fetch events from (e.g., last 10 blocks)
event_filter = pyusd_contract.events.Transfer.create_filter(
    fromBlock=max(0, latest_block - 10),  # Fetch from last 10 blocks or block 0 if less than 10 blocks exist
    toBlock='latest'
)

transfer_events = event_filter.get_all_entries()

if transfer_events:
    for event in transfer_events:
        print("\n--- Transfer Event ---")
        print(f"Block Number: {event['blockNumber']}")
        print(f"Transaction Hash: {event['transactionHash'].hex()}") # .hex() to get hex representation
        print(f"From: {event['args']['from']}")
        print(f"To: {event['args']['to']}")
        print(f"Value (Raw): {event['args']['value']}") # Raw value in smallest unit (wei for ETH, base units for tokens)
        # You might want to decode the value based on PYUSD decimals (usually 18 for ERC20 tokens)
        # Example: value_decimal = event['args']['value'] / (10**18) # Assuming 18 decimals - check PYUSD documentation
        # print(f"Value (Decimal): {value_decimal}")
else:
    print("No PYUSD Transfer events found in recent blocks.")


# --- Example: Using computationally expensive methods (Illustrative - may require specific transaction hashes) ---
print("\n--- Example: Illustrative use of trace_transaction (Requires a Transaction Hash) ---")
# **Note:**  `trace_transaction` and similar methods are computationally expensive and very detailed.
# You'll need a specific PYUSD transaction hash to trace. For demonstration, you can try to find a recent PYUSD transaction hash from Etherscan
# or use one from the transfer_events fetched above (event['transactionHash'].hex())
EXAMPLE_TRANSACTION_HASH = None #  "0x..."  # REPLACE with a real PYUSD transaction hash if you want to test trace_transaction

if EXAMPLE_TRANSACTION_HASH:
    try:
        transaction_trace = w3.provider.make_request("trace_transaction", [EXAMPLE_TRANSACTION_HASH])
        print("\n--- Transaction Trace (Partial Output) ---")
        # The output of trace_transaction is very detailed. Print just the start for demonstration
        print(transaction_trace['result'][:500] + "...") # Print first 500 chars for brevity

    except Exception as e:
        print(f"Error during trace_transaction: {e}")
        print("Make sure you have a valid transaction hash and your GCP RPC endpoint supports trace methods.")
else:
    print("No EXAMPLE_TRANSACTION_HASH provided. To test trace_transaction, replace None with a valid PYUSD transaction hash.")


print("\n--- End of Basic Example ---")
print("This is a starting point. Explore the GCP Blockchain RPC documentation and PYUSD documentation to build more advanced features!")
